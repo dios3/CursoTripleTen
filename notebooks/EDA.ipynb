{
 "cells": [
  {
   "cell_type": "markdown",
   "metadata": {},
   "source": [
    "# Análisis Exploratorio de Datos - Vehículos\n",
    "## Dataset: vehicles_us.csv"
   ]
  },
  {
   "cell_type": "code",
   "execution_count": null,
   "metadata": {},
   "outputs": [],
   "source": [
    "import pandas as pd\n",
    "import plotly.express as px\n",
    "\n",
    "# Cargar datos\n",
    "car_data = pd.read_csv('../vehicles_us.csv')\n",
    "\n",
    "# Información básica del dataset\n",
    "print(\"Información del dataset:\")\n",
    "print(f\"Filas: {car_data.shape[0]}, Columnas: {car_data.shape[1]}\")\n",
    "print(\"\\nPrimeras 5 filas:\")\n",
    "car_data.head()"
   ]
  },
  {
   "cell_type": "code",
   "execution_count": null,
   "metadata": {},
   "outputs": [],
   "source": [
    "# Información de columnas y tipos de datos\n",
    "print(\"Información de columnas:\")\n",
    "car_data.info()\n",
    "\n",
    "print(\"\\nEstadísticas descriptivas:\")\n",
    "car_data.describe()"
   ]
  },
  {
   "cell_type": "code",
   "execution_count": null,
   "metadata": {},
   "outputs": [],
   "source": [
    "# Histograma de kilometraje\n",
    "fig = px.histogram(car_data, x=\"odometer\", \n",
    "                   title=\"Distribución de Kilometraje\",\n",
    "                   labels={'odometer': 'Kilometraje'})\n",
    "fig.show()"
   ]
  },
  {
   "cell_type": "code",
   "execution_count": null,
   "metadata": {},
   "outputs": [],
   "source": [
    "# Gráfico de dispersión: Precio vs Kilometraje\n",
    "fig = px.scatter(car_data, x=\"odometer\", y=\"price\",\n",
    "                 title=\"Precio vs Kilometraje\",\n",
    "                 labels={'odometer': 'Kilometraje', 'price': 'Precio'})\n",
    "fig.show()"
   ]
  },
  {
   "cell_type": "code",
   "execution_count": null,
   "metadata": {},
   "outputs": [],
   "source": [
    "# Análisis de valores nulos\n",
    "print(\"Valores nulos por columna:\")\n",
    "car_data.isnull().sum()"
   ]
  }
 ],
 "metadata": {
  "kernelspec": {
   "display_name": "Python 3",
   "language": "python",
   "name": "python3"
  },
  "language_info": {
   "name": "python",
   "version": "3.8.0"
  }
 },
 "nbformat": 4,
 "nbformat_minor": 4
}